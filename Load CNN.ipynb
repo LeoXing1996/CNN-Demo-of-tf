{
 "cells": [
  {
   "cell_type": "code",
   "execution_count": 1,
   "metadata": {},
   "outputs": [],
   "source": [
    "from tensorflow.examples.tutorials.mnist import input_data\n",
    "import tensorflow as tf\n",
    "import numpy as np\n",
    "from matplotlib import pyplot as plt"
   ]
  },
  {
   "cell_type": "code",
   "execution_count": 5,
   "metadata": {},
   "outputs": [
    {
     "name": "stdout",
     "output_type": "stream",
     "text": [
      "Extracting /JupyterNotebook/Machine Learning/CNN Demo\\train-images-idx3-ubyte.gz\n",
      "Extracting /JupyterNotebook/Machine Learning/CNN Demo\\train-labels-idx1-ubyte.gz\n",
      "Extracting /JupyterNotebook/Machine Learning/CNN Demo\\t10k-images-idx3-ubyte.gz\n",
      "Extracting /JupyterNotebook/Machine Learning/CNN Demo\\t10k-labels-idx1-ubyte.gz\n"
     ]
    }
   ],
   "source": [
    "mnist = input_data.read_data_sets(\"/JupyterNotebook/Machine Learning/CNN Demo\", one_hot = True)"
   ]
  },
  {
   "cell_type": "code",
   "execution_count": 6,
   "metadata": {},
   "outputs": [
    {
     "name": "stdout",
     "output_type": "stream",
     "text": [
      "INFO:tensorflow:Restoring parameters from /JupyterNotebook/Machine Learning/CNN Demo/Result\n"
     ]
    },
    {
     "data": {
      "text/plain": [
       "0.91159999"
      ]
     },
     "execution_count": 6,
     "metadata": {},
     "output_type": "execute_result"
    }
   ],
   "source": [
    "with tf.Session() as sess:\n",
    "    \n",
    "    saver = tf.train.import_meta_graph('/JupyterNotebook/Machine Learning/CNN Demo/Result.meta')\n",
    "    saver.restore(sess,tf.train.latest_checkpoint('/JupyterNotebook/Machine Learning/CNN Demo'))\n",
    "    graph = tf.get_default_graph()\n",
    "    x = graph.get_tensor_by_name(\"x:0\")\n",
    "    y = graph.get_tensor_by_name(\"y:0\")\n",
    "    keep_prob = graph.get_tensor_by_name(\"keep_prob:0\")\n",
    "    acc = graph.get_tensor_by_name(\"Accuracy:0\")\n",
    "    sess.run(acc, feed_dict={x:mnist.test.images , y:mnist.test.labels, keep_prob:1.0})"
   ]
  },
  {
   "cell_type": "code",
   "execution_count": null,
   "metadata": {},
   "outputs": [],
   "source": []
  }
 ],
 "metadata": {
  "kernelspec": {
   "display_name": "Python 3",
   "language": "python",
   "name": "python3"
  },
  "language_info": {
   "codemirror_mode": {
    "name": "ipython",
    "version": 3
   },
   "file_extension": ".py",
   "mimetype": "text/x-python",
   "name": "python",
   "nbconvert_exporter": "python",
   "pygments_lexer": "ipython3",
   "version": "3.6.2"
  }
 },
 "nbformat": 4,
 "nbformat_minor": 2
}
