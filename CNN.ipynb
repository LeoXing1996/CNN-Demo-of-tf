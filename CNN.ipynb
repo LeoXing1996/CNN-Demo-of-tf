{
 "cells": [
  {
   "cell_type": "code",
   "execution_count": 1,
   "metadata": {},
   "outputs": [],
   "source": [
    "from tensorflow.examples.tutorials.mnist import input_data\n",
    "import tensorflow as tf\n",
    "import numpy as np\n",
    "from matplotlib import pyplot as plt"
   ]
  },
  {
   "cell_type": "code",
   "execution_count": 2,
   "metadata": {},
   "outputs": [
    {
     "name": "stdout",
     "output_type": "stream",
     "text": [
      "Extracting /JupyterNotebook/Machine Learning/CNN Demo\\train-images-idx3-ubyte.gz\n",
      "Extracting /JupyterNotebook/Machine Learning/CNN Demo\\train-labels-idx1-ubyte.gz\n",
      "Extracting /JupyterNotebook/Machine Learning/CNN Demo\\t10k-images-idx3-ubyte.gz\n",
      "Extracting /JupyterNotebook/Machine Learning/CNN Demo\\t10k-labels-idx1-ubyte.gz\n"
     ]
    }
   ],
   "source": [
    "mnist = input_data.read_data_sets(\"/JupyterNotebook/Machine Learning/CNN Demo\", one_hot = True)"
   ]
  },
  {
   "cell_type": "code",
   "execution_count": 3,
   "metadata": {},
   "outputs": [],
   "source": [
    "# 初始化 权重 与 偏置\n",
    "def weight_variable(shape):\n",
    "    '''\n",
    "        shape: 1-D 整型tensor 或python array\n",
    "    '''\n",
    "    # truncated_normal 生成截断正态分布随机数 即 所有随机数均落在(\\mu+-2sigma)内\n",
    "    \n",
    "    initial = tf.truncated_normal(shape, stddev=0.1)\n",
    "    return tf.Variable(initial)\n",
    "\n",
    "def bias_variable(shape):\n",
    "    return tf.Variable(tf.ones(shape)/10)\n",
    "    "
   ]
  },
  {
   "cell_type": "code",
   "execution_count": 4,
   "metadata": {},
   "outputs": [],
   "source": [
    "def conv2d(x,W):\n",
    "    return tf.nn.conv2d(x,W,strides=[1,1,1,1], padding='SAME')\n",
    "\n",
    "def max_pool_2x2(x):\n",
    "    return tf.nn.max_pool(x, ksize=[1,2,2,1], strides=[1,2,2,1], padding='SAME')"
   ]
  },
  {
   "cell_type": "code",
   "execution_count": 5,
   "metadata": {},
   "outputs": [],
   "source": [
    "# x 特征\n",
    "# y 真实label\n",
    "x = tf.placeholder(tf.float32, [None, 784])\n",
    "y = tf.placeholder(tf.float32, [None, 10])\n",
    "x_image = tf.reshape(x, [-1, 28, 28, 1])"
   ]
  },
  {
   "cell_type": "code",
   "execution_count": 6,
   "metadata": {},
   "outputs": [],
   "source": [
    "# 定义卷积层\n",
    "\n",
    "W_conv1 = weight_variable([5,5,1,32])\n",
    "b_conv1 = bias_variable([32])\n",
    "h_conv1 = tf.nn.relu(conv2d(x_image, W_conv1) + b_conv1)\n",
    "h_pool1 = max_pool_2x2(h_conv1)\n",
    "\n",
    "W_conv2 = weight_variable([5,5,32,64])\n",
    "b_conv2 = bias_variable([64])\n",
    "h_conv2 = tf.nn.relu(conv2d(h_pool1, W_conv2) + b_conv2)\n",
    "h_pool2 = max_pool_2x2(h_conv2)"
   ]
  },
  {
   "cell_type": "code",
   "execution_count": 7,
   "metadata": {},
   "outputs": [],
   "source": [
    "# 全连接层 \n",
    "# 由于经过两次 2*2池化 因此图像长宽变为 1/4 即7*7 \n",
    "# 而由于有64个输出通道，因此输入节点数为 7*7*64\n",
    "# 设第一层隐含节点数为 1024\n",
    "W_fc1 = weight_variable([7*7*64, 1024])\n",
    "b_fc1 = bias_variable([1024])\n",
    "# 将池化结果展开\n",
    "h_pool2_flat = tf.reshape(h_pool2, [-1, 7*7*64])\n",
    "h_fc1 = tf.matmul(h_pool2_flat, W_fc1) + b_fc1\n",
    "h_fc1 = tf.nn.relu(h_fc1)\n",
    "\n",
    "# dropout 层\n",
    "keep_prob = tf.placeholder(tf.float32)\n",
    "h_fc1_drop = tf.nn.dropout(h_fc1, keep_prob)\n",
    "\n",
    "# softmax 层\n",
    "W_fc2 = weight_variable([1024, 10])\n",
    "b_fc2 = bias_variable([10])\n",
    "h_fc2 = tf.matmul(h_fc1_drop, W_fc2) + b_fc2\n",
    "y_conv = tf.nn.softmax(h_fc2)"
   ]
  },
  {
   "cell_type": "code",
   "execution_count": 8,
   "metadata": {},
   "outputs": [],
   "source": [
    "# 损失函数\n",
    "loss = tf.reduce_mean(tf.nn.softmax_cross_entropy_with_logits(labels=y, logits=h_fc2))\n",
    "train = tf.train.AdamOptimizer(1e-2).minimize(loss)"
   ]
  },
  {
   "cell_type": "code",
   "execution_count": 9,
   "metadata": {},
   "outputs": [],
   "source": [
    "# 准确率\n",
    "correct_prediction = tf.equal(tf.argmax(y_conv, axis=1), tf.argmax(y, axis=1))\n",
    "accuracy = tf.reduce_mean(tf.cast(correct_prediction, tf.float32))"
   ]
  },
  {
   "cell_type": "code",
   "execution_count": 10,
   "metadata": {
    "scrolled": true
   },
   "outputs": [
    {
     "data": {
      "text/plain": [
       "'/JupyterNotebook/Machine Learning/CNN Demo/Result'"
      ]
     },
     "execution_count": 10,
     "metadata": {},
     "output_type": "execute_result"
    },
    {
     "data": {
      "text/plain": [
       "'/JupyterNotebook/Machine Learning/CNN Demo/Result'"
      ]
     },
     "execution_count": 10,
     "metadata": {},
     "output_type": "execute_result"
    },
    {
     "data": {
      "text/plain": [
       "'/JupyterNotebook/Machine Learning/CNN Demo/Result'"
      ]
     },
     "execution_count": 10,
     "metadata": {},
     "output_type": "execute_result"
    },
    {
     "data": {
      "text/plain": [
       "'/JupyterNotebook/Machine Learning/CNN Demo/Result'"
      ]
     },
     "execution_count": 10,
     "metadata": {},
     "output_type": "execute_result"
    },
    {
     "data": {
      "text/plain": [
       "'/JupyterNotebook/Machine Learning/CNN Demo/Result'"
      ]
     },
     "execution_count": 10,
     "metadata": {},
     "output_type": "execute_result"
    },
    {
     "data": {
      "text/plain": [
       "'/JupyterNotebook/Machine Learning/CNN Demo/Result'"
      ]
     },
     "execution_count": 10,
     "metadata": {},
     "output_type": "execute_result"
    },
    {
     "data": {
      "text/plain": [
       "'/JupyterNotebook/Machine Learning/CNN Demo/Result'"
      ]
     },
     "execution_count": 10,
     "metadata": {},
     "output_type": "execute_result"
    },
    {
     "name": "stdout",
     "output_type": "stream",
     "text": [
      "step 10, train accuracy 0.160000\n"
     ]
    },
    {
     "data": {
      "text/plain": [
       "'/JupyterNotebook/Machine Learning/CNN Demo/Result'"
      ]
     },
     "execution_count": 10,
     "metadata": {},
     "output_type": "execute_result"
    },
    {
     "data": {
      "text/plain": [
       "'/JupyterNotebook/Machine Learning/CNN Demo/Result'"
      ]
     },
     "execution_count": 10,
     "metadata": {},
     "output_type": "execute_result"
    },
    {
     "data": {
      "text/plain": [
       "'/JupyterNotebook/Machine Learning/CNN Demo/Result'"
      ]
     },
     "execution_count": 10,
     "metadata": {},
     "output_type": "execute_result"
    },
    {
     "data": {
      "text/plain": [
       "'/JupyterNotebook/Machine Learning/CNN Demo/Result'"
      ]
     },
     "execution_count": 10,
     "metadata": {},
     "output_type": "execute_result"
    },
    {
     "data": {
      "text/plain": [
       "'/JupyterNotebook/Machine Learning/CNN Demo/Result'"
      ]
     },
     "execution_count": 10,
     "metadata": {},
     "output_type": "execute_result"
    },
    {
     "name": "stdout",
     "output_type": "stream",
     "text": [
      "step 20, train accuracy 0.800000\n"
     ]
    },
    {
     "data": {
      "text/plain": [
       "'/JupyterNotebook/Machine Learning/CNN Demo/Result'"
      ]
     },
     "execution_count": 10,
     "metadata": {},
     "output_type": "execute_result"
    },
    {
     "data": {
      "text/plain": [
       "'/JupyterNotebook/Machine Learning/CNN Demo/Result'"
      ]
     },
     "execution_count": 10,
     "metadata": {},
     "output_type": "execute_result"
    },
    {
     "data": {
      "text/plain": [
       "'/JupyterNotebook/Machine Learning/CNN Demo/Result'"
      ]
     },
     "execution_count": 10,
     "metadata": {},
     "output_type": "execute_result"
    },
    {
     "data": {
      "text/plain": [
       "'/JupyterNotebook/Machine Learning/CNN Demo/Result'"
      ]
     },
     "execution_count": 10,
     "metadata": {},
     "output_type": "execute_result"
    },
    {
     "data": {
      "text/plain": [
       "'/JupyterNotebook/Machine Learning/CNN Demo/Result'"
      ]
     },
     "execution_count": 10,
     "metadata": {},
     "output_type": "execute_result"
    },
    {
     "name": "stdout",
     "output_type": "stream",
     "text": [
      "step 30, train accuracy 0.860000\n"
     ]
    },
    {
     "data": {
      "text/plain": [
       "'/JupyterNotebook/Machine Learning/CNN Demo/Result'"
      ]
     },
     "execution_count": 10,
     "metadata": {},
     "output_type": "execute_result"
    },
    {
     "data": {
      "text/plain": [
       "'/JupyterNotebook/Machine Learning/CNN Demo/Result'"
      ]
     },
     "execution_count": 10,
     "metadata": {},
     "output_type": "execute_result"
    },
    {
     "data": {
      "text/plain": [
       "'/JupyterNotebook/Machine Learning/CNN Demo/Result'"
      ]
     },
     "execution_count": 10,
     "metadata": {},
     "output_type": "execute_result"
    },
    {
     "data": {
      "text/plain": [
       "'/JupyterNotebook/Machine Learning/CNN Demo/Result'"
      ]
     },
     "execution_count": 10,
     "metadata": {},
     "output_type": "execute_result"
    },
    {
     "name": "stdout",
     "output_type": "stream",
     "text": [
      "step 40, train accuracy 0.820000\n"
     ]
    },
    {
     "data": {
      "text/plain": [
       "'/JupyterNotebook/Machine Learning/CNN Demo/Result'"
      ]
     },
     "execution_count": 10,
     "metadata": {},
     "output_type": "execute_result"
    },
    {
     "data": {
      "text/plain": [
       "'/JupyterNotebook/Machine Learning/CNN Demo/Result'"
      ]
     },
     "execution_count": 10,
     "metadata": {},
     "output_type": "execute_result"
    },
    {
     "data": {
      "text/plain": [
       "'/JupyterNotebook/Machine Learning/CNN Demo/Result'"
      ]
     },
     "execution_count": 10,
     "metadata": {},
     "output_type": "execute_result"
    },
    {
     "data": {
      "text/plain": [
       "'/JupyterNotebook/Machine Learning/CNN Demo/Result'"
      ]
     },
     "execution_count": 10,
     "metadata": {},
     "output_type": "execute_result"
    },
    {
     "data": {
      "text/plain": [
       "'/JupyterNotebook/Machine Learning/CNN Demo/Result'"
      ]
     },
     "execution_count": 10,
     "metadata": {},
     "output_type": "execute_result"
    },
    {
     "data": {
      "text/plain": [
       "'/JupyterNotebook/Machine Learning/CNN Demo/Result'"
      ]
     },
     "execution_count": 10,
     "metadata": {},
     "output_type": "execute_result"
    },
    {
     "name": "stdout",
     "output_type": "stream",
     "text": [
      "step 50, train accuracy 0.900000\n"
     ]
    },
    {
     "data": {
      "text/plain": [
       "'/JupyterNotebook/Machine Learning/CNN Demo/Result'"
      ]
     },
     "execution_count": 10,
     "metadata": {},
     "output_type": "execute_result"
    },
    {
     "data": {
      "text/plain": [
       "'/JupyterNotebook/Machine Learning/CNN Demo/Result'"
      ]
     },
     "execution_count": 10,
     "metadata": {},
     "output_type": "execute_result"
    },
    {
     "data": {
      "text/plain": [
       "'/JupyterNotebook/Machine Learning/CNN Demo/Result'"
      ]
     },
     "execution_count": 10,
     "metadata": {},
     "output_type": "execute_result"
    },
    {
     "data": {
      "text/plain": [
       "'/JupyterNotebook/Machine Learning/CNN Demo/Result'"
      ]
     },
     "execution_count": 10,
     "metadata": {},
     "output_type": "execute_result"
    },
    {
     "data": {
      "text/plain": [
       "'/JupyterNotebook/Machine Learning/CNN Demo/Result'"
      ]
     },
     "execution_count": 10,
     "metadata": {},
     "output_type": "execute_result"
    },
    {
     "name": "stdout",
     "output_type": "stream",
     "text": [
      "step 60, train accuracy 0.880000\n"
     ]
    },
    {
     "data": {
      "text/plain": [
       "'/JupyterNotebook/Machine Learning/CNN Demo/Result'"
      ]
     },
     "execution_count": 10,
     "metadata": {},
     "output_type": "execute_result"
    },
    {
     "data": {
      "text/plain": [
       "'/JupyterNotebook/Machine Learning/CNN Demo/Result'"
      ]
     },
     "execution_count": 10,
     "metadata": {},
     "output_type": "execute_result"
    },
    {
     "data": {
      "text/plain": [
       "'/JupyterNotebook/Machine Learning/CNN Demo/Result'"
      ]
     },
     "execution_count": 10,
     "metadata": {},
     "output_type": "execute_result"
    },
    {
     "data": {
      "text/plain": [
       "'/JupyterNotebook/Machine Learning/CNN Demo/Result'"
      ]
     },
     "execution_count": 10,
     "metadata": {},
     "output_type": "execute_result"
    },
    {
     "data": {
      "text/plain": [
       "'/JupyterNotebook/Machine Learning/CNN Demo/Result'"
      ]
     },
     "execution_count": 10,
     "metadata": {},
     "output_type": "execute_result"
    },
    {
     "data": {
      "text/plain": [
       "'/JupyterNotebook/Machine Learning/CNN Demo/Result'"
      ]
     },
     "execution_count": 10,
     "metadata": {},
     "output_type": "execute_result"
    },
    {
     "name": "stdout",
     "output_type": "stream",
     "text": [
      "step 70, train accuracy 0.900000\n"
     ]
    },
    {
     "data": {
      "text/plain": [
       "'/JupyterNotebook/Machine Learning/CNN Demo/Result'"
      ]
     },
     "execution_count": 10,
     "metadata": {},
     "output_type": "execute_result"
    },
    {
     "data": {
      "text/plain": [
       "'/JupyterNotebook/Machine Learning/CNN Demo/Result'"
      ]
     },
     "execution_count": 10,
     "metadata": {},
     "output_type": "execute_result"
    },
    {
     "data": {
      "text/plain": [
       "'/JupyterNotebook/Machine Learning/CNN Demo/Result'"
      ]
     },
     "execution_count": 10,
     "metadata": {},
     "output_type": "execute_result"
    },
    {
     "data": {
      "text/plain": [
       "'/JupyterNotebook/Machine Learning/CNN Demo/Result'"
      ]
     },
     "execution_count": 10,
     "metadata": {},
     "output_type": "execute_result"
    },
    {
     "name": "stdout",
     "output_type": "stream",
     "text": [
      "step 80, train accuracy 0.860000\n"
     ]
    },
    {
     "data": {
      "text/plain": [
       "'/JupyterNotebook/Machine Learning/CNN Demo/Result'"
      ]
     },
     "execution_count": 10,
     "metadata": {},
     "output_type": "execute_result"
    },
    {
     "data": {
      "text/plain": [
       "'/JupyterNotebook/Machine Learning/CNN Demo/Result'"
      ]
     },
     "execution_count": 10,
     "metadata": {},
     "output_type": "execute_result"
    },
    {
     "data": {
      "text/plain": [
       "'/JupyterNotebook/Machine Learning/CNN Demo/Result'"
      ]
     },
     "execution_count": 10,
     "metadata": {},
     "output_type": "execute_result"
    },
    {
     "data": {
      "text/plain": [
       "'/JupyterNotebook/Machine Learning/CNN Demo/Result'"
      ]
     },
     "execution_count": 10,
     "metadata": {},
     "output_type": "execute_result"
    },
    {
     "data": {
      "text/plain": [
       "'/JupyterNotebook/Machine Learning/CNN Demo/Result'"
      ]
     },
     "execution_count": 10,
     "metadata": {},
     "output_type": "execute_result"
    },
    {
     "name": "stdout",
     "output_type": "stream",
     "text": [
      "step 90, train accuracy 0.940000\n"
     ]
    },
    {
     "data": {
      "text/plain": [
       "'/JupyterNotebook/Machine Learning/CNN Demo/Result'"
      ]
     },
     "execution_count": 10,
     "metadata": {},
     "output_type": "execute_result"
    },
    {
     "data": {
      "text/plain": [
       "'/JupyterNotebook/Machine Learning/CNN Demo/Result'"
      ]
     },
     "execution_count": 10,
     "metadata": {},
     "output_type": "execute_result"
    },
    {
     "data": {
      "text/plain": [
       "'/JupyterNotebook/Machine Learning/CNN Demo/Result'"
      ]
     },
     "execution_count": 10,
     "metadata": {},
     "output_type": "execute_result"
    },
    {
     "data": {
      "text/plain": [
       "'/JupyterNotebook/Machine Learning/CNN Demo/Result'"
      ]
     },
     "execution_count": 10,
     "metadata": {},
     "output_type": "execute_result"
    },
    {
     "name": "stdout",
     "output_type": "stream",
     "text": [
      "step 100, train accuracy 0.920000\n"
     ]
    },
    {
     "data": {
      "text/plain": [
       "'/JupyterNotebook/Machine Learning/CNN Demo/Result'"
      ]
     },
     "execution_count": 10,
     "metadata": {},
     "output_type": "execute_result"
    },
    {
     "data": {
      "text/plain": [
       "'/JupyterNotebook/Machine Learning/CNN Demo/Result'"
      ]
     },
     "execution_count": 10,
     "metadata": {},
     "output_type": "execute_result"
    },
    {
     "data": {
      "text/plain": [
       "'/JupyterNotebook/Machine Learning/CNN Demo/Result'"
      ]
     },
     "execution_count": 10,
     "metadata": {},
     "output_type": "execute_result"
    },
    {
     "data": {
      "text/plain": [
       "'/JupyterNotebook/Machine Learning/CNN Demo/Result'"
      ]
     },
     "execution_count": 10,
     "metadata": {},
     "output_type": "execute_result"
    },
    {
     "name": "stdout",
     "output_type": "stream",
     "text": [
      "step 110, train accuracy 0.920000\n"
     ]
    },
    {
     "data": {
      "text/plain": [
       "'/JupyterNotebook/Machine Learning/CNN Demo/Result'"
      ]
     },
     "execution_count": 10,
     "metadata": {},
     "output_type": "execute_result"
    },
    {
     "data": {
      "text/plain": [
       "'/JupyterNotebook/Machine Learning/CNN Demo/Result'"
      ]
     },
     "execution_count": 10,
     "metadata": {},
     "output_type": "execute_result"
    },
    {
     "data": {
      "text/plain": [
       "'/JupyterNotebook/Machine Learning/CNN Demo/Result'"
      ]
     },
     "execution_count": 10,
     "metadata": {},
     "output_type": "execute_result"
    },
    {
     "name": "stdout",
     "output_type": "stream",
     "text": [
      "step 120, train accuracy 0.980000\n"
     ]
    },
    {
     "data": {
      "text/plain": [
       "'/JupyterNotebook/Machine Learning/CNN Demo/Result'"
      ]
     },
     "execution_count": 10,
     "metadata": {},
     "output_type": "execute_result"
    },
    {
     "data": {
      "text/plain": [
       "'/JupyterNotebook/Machine Learning/CNN Demo/Result'"
      ]
     },
     "execution_count": 10,
     "metadata": {},
     "output_type": "execute_result"
    },
    {
     "data": {
      "text/plain": [
       "'/JupyterNotebook/Machine Learning/CNN Demo/Result'"
      ]
     },
     "execution_count": 10,
     "metadata": {},
     "output_type": "execute_result"
    },
    {
     "data": {
      "text/plain": [
       "'/JupyterNotebook/Machine Learning/CNN Demo/Result'"
      ]
     },
     "execution_count": 10,
     "metadata": {},
     "output_type": "execute_result"
    },
    {
     "name": "stdout",
     "output_type": "stream",
     "text": [
      "step 130, train accuracy 0.940000\n"
     ]
    },
    {
     "data": {
      "text/plain": [
       "'/JupyterNotebook/Machine Learning/CNN Demo/Result'"
      ]
     },
     "execution_count": 10,
     "metadata": {},
     "output_type": "execute_result"
    },
    {
     "data": {
      "text/plain": [
       "'/JupyterNotebook/Machine Learning/CNN Demo/Result'"
      ]
     },
     "execution_count": 10,
     "metadata": {},
     "output_type": "execute_result"
    },
    {
     "data": {
      "text/plain": [
       "'/JupyterNotebook/Machine Learning/CNN Demo/Result'"
      ]
     },
     "execution_count": 10,
     "metadata": {},
     "output_type": "execute_result"
    },
    {
     "data": {
      "text/plain": [
       "'/JupyterNotebook/Machine Learning/CNN Demo/Result'"
      ]
     },
     "execution_count": 10,
     "metadata": {},
     "output_type": "execute_result"
    },
    {
     "data": {
      "text/plain": [
       "'/JupyterNotebook/Machine Learning/CNN Demo/Result'"
      ]
     },
     "execution_count": 10,
     "metadata": {},
     "output_type": "execute_result"
    },
    {
     "name": "stdout",
     "output_type": "stream",
     "text": [
      "step 140, train accuracy 0.960000\n"
     ]
    },
    {
     "data": {
      "text/plain": [
       "'/JupyterNotebook/Machine Learning/CNN Demo/Result'"
      ]
     },
     "execution_count": 10,
     "metadata": {},
     "output_type": "execute_result"
    },
    {
     "data": {
      "text/plain": [
       "'/JupyterNotebook/Machine Learning/CNN Demo/Result'"
      ]
     },
     "execution_count": 10,
     "metadata": {},
     "output_type": "execute_result"
    },
    {
     "data": {
      "text/plain": [
       "'/JupyterNotebook/Machine Learning/CNN Demo/Result'"
      ]
     },
     "execution_count": 10,
     "metadata": {},
     "output_type": "execute_result"
    },
    {
     "data": {
      "text/plain": [
       "'/JupyterNotebook/Machine Learning/CNN Demo/Result'"
      ]
     },
     "execution_count": 10,
     "metadata": {},
     "output_type": "execute_result"
    },
    {
     "name": "stdout",
     "output_type": "stream",
     "text": [
      "step 150, train accuracy 0.900000\n"
     ]
    },
    {
     "data": {
      "text/plain": [
       "'/JupyterNotebook/Machine Learning/CNN Demo/Result'"
      ]
     },
     "execution_count": 10,
     "metadata": {},
     "output_type": "execute_result"
    },
    {
     "data": {
      "text/plain": [
       "'/JupyterNotebook/Machine Learning/CNN Demo/Result'"
      ]
     },
     "execution_count": 10,
     "metadata": {},
     "output_type": "execute_result"
    },
    {
     "data": {
      "text/plain": [
       "'/JupyterNotebook/Machine Learning/CNN Demo/Result'"
      ]
     },
     "execution_count": 10,
     "metadata": {},
     "output_type": "execute_result"
    },
    {
     "data": {
      "text/plain": [
       "'/JupyterNotebook/Machine Learning/CNN Demo/Result'"
      ]
     },
     "execution_count": 10,
     "metadata": {},
     "output_type": "execute_result"
    },
    {
     "data": {
      "text/plain": [
       "'/JupyterNotebook/Machine Learning/CNN Demo/Result'"
      ]
     },
     "execution_count": 10,
     "metadata": {},
     "output_type": "execute_result"
    },
    {
     "name": "stdout",
     "output_type": "stream",
     "text": [
      "step 160, train accuracy 0.920000\n"
     ]
    },
    {
     "data": {
      "text/plain": [
       "'/JupyterNotebook/Machine Learning/CNN Demo/Result'"
      ]
     },
     "execution_count": 10,
     "metadata": {},
     "output_type": "execute_result"
    },
    {
     "data": {
      "text/plain": [
       "'/JupyterNotebook/Machine Learning/CNN Demo/Result'"
      ]
     },
     "execution_count": 10,
     "metadata": {},
     "output_type": "execute_result"
    },
    {
     "data": {
      "text/plain": [
       "'/JupyterNotebook/Machine Learning/CNN Demo/Result'"
      ]
     },
     "execution_count": 10,
     "metadata": {},
     "output_type": "execute_result"
    },
    {
     "name": "stdout",
     "output_type": "stream",
     "text": [
      "step 170, train accuracy 0.940000\n"
     ]
    },
    {
     "data": {
      "text/plain": [
       "'/JupyterNotebook/Machine Learning/CNN Demo/Result'"
      ]
     },
     "execution_count": 10,
     "metadata": {},
     "output_type": "execute_result"
    },
    {
     "data": {
      "text/plain": [
       "'/JupyterNotebook/Machine Learning/CNN Demo/Result'"
      ]
     },
     "execution_count": 10,
     "metadata": {},
     "output_type": "execute_result"
    },
    {
     "data": {
      "text/plain": [
       "'/JupyterNotebook/Machine Learning/CNN Demo/Result'"
      ]
     },
     "execution_count": 10,
     "metadata": {},
     "output_type": "execute_result"
    },
    {
     "name": "stdout",
     "output_type": "stream",
     "text": [
      "step 180, train accuracy 0.940000\n"
     ]
    },
    {
     "data": {
      "text/plain": [
       "'/JupyterNotebook/Machine Learning/CNN Demo/Result'"
      ]
     },
     "execution_count": 10,
     "metadata": {},
     "output_type": "execute_result"
    },
    {
     "data": {
      "text/plain": [
       "'/JupyterNotebook/Machine Learning/CNN Demo/Result'"
      ]
     },
     "execution_count": 10,
     "metadata": {},
     "output_type": "execute_result"
    },
    {
     "data": {
      "text/plain": [
       "'/JupyterNotebook/Machine Learning/CNN Demo/Result'"
      ]
     },
     "execution_count": 10,
     "metadata": {},
     "output_type": "execute_result"
    },
    {
     "data": {
      "text/plain": [
       "'/JupyterNotebook/Machine Learning/CNN Demo/Result'"
      ]
     },
     "execution_count": 10,
     "metadata": {},
     "output_type": "execute_result"
    },
    {
     "name": "stdout",
     "output_type": "stream",
     "text": [
      "step 190, train accuracy 0.900000\n"
     ]
    },
    {
     "data": {
      "text/plain": [
       "'/JupyterNotebook/Machine Learning/CNN Demo/Result'"
      ]
     },
     "execution_count": 10,
     "metadata": {},
     "output_type": "execute_result"
    },
    {
     "data": {
      "text/plain": [
       "'/JupyterNotebook/Machine Learning/CNN Demo/Result'"
      ]
     },
     "execution_count": 10,
     "metadata": {},
     "output_type": "execute_result"
    },
    {
     "data": {
      "text/plain": [
       "'/JupyterNotebook/Machine Learning/CNN Demo/Result'"
      ]
     },
     "execution_count": 10,
     "metadata": {},
     "output_type": "execute_result"
    },
    {
     "data": {
      "text/plain": [
       "'/JupyterNotebook/Machine Learning/CNN Demo/Result'"
      ]
     },
     "execution_count": 10,
     "metadata": {},
     "output_type": "execute_result"
    },
    {
     "data": {
      "text/plain": [
       "'/JupyterNotebook/Machine Learning/CNN Demo/Result'"
      ]
     },
     "execution_count": 10,
     "metadata": {},
     "output_type": "execute_result"
    },
    {
     "name": "stdout",
     "output_type": "stream",
     "text": [
      "step 200, train accuracy 0.960000\n"
     ]
    },
    {
     "data": {
      "text/plain": [
       "'/JupyterNotebook/Machine Learning/CNN Demo/Result'"
      ]
     },
     "execution_count": 10,
     "metadata": {},
     "output_type": "execute_result"
    },
    {
     "data": {
      "text/plain": [
       "'/JupyterNotebook/Machine Learning/CNN Demo/Result'"
      ]
     },
     "execution_count": 10,
     "metadata": {},
     "output_type": "execute_result"
    },
    {
     "data": {
      "text/plain": [
       "'/JupyterNotebook/Machine Learning/CNN Demo/Result'"
      ]
     },
     "execution_count": 10,
     "metadata": {},
     "output_type": "execute_result"
    },
    {
     "data": {
      "text/plain": [
       "'/JupyterNotebook/Machine Learning/CNN Demo/Result'"
      ]
     },
     "execution_count": 10,
     "metadata": {},
     "output_type": "execute_result"
    },
    {
     "data": {
      "text/plain": [
       "'/JupyterNotebook/Machine Learning/CNN Demo/Result'"
      ]
     },
     "execution_count": 10,
     "metadata": {},
     "output_type": "execute_result"
    },
    {
     "name": "stdout",
     "output_type": "stream",
     "text": [
      "step 210, train accuracy 0.920000\n"
     ]
    },
    {
     "data": {
      "text/plain": [
       "'/JupyterNotebook/Machine Learning/CNN Demo/Result'"
      ]
     },
     "execution_count": 10,
     "metadata": {},
     "output_type": "execute_result"
    },
    {
     "data": {
      "text/plain": [
       "'/JupyterNotebook/Machine Learning/CNN Demo/Result'"
      ]
     },
     "execution_count": 10,
     "metadata": {},
     "output_type": "execute_result"
    },
    {
     "data": {
      "text/plain": [
       "'/JupyterNotebook/Machine Learning/CNN Demo/Result'"
      ]
     },
     "execution_count": 10,
     "metadata": {},
     "output_type": "execute_result"
    },
    {
     "data": {
      "text/plain": [
       "'/JupyterNotebook/Machine Learning/CNN Demo/Result'"
      ]
     },
     "execution_count": 10,
     "metadata": {},
     "output_type": "execute_result"
    },
    {
     "data": {
      "text/plain": [
       "'/JupyterNotebook/Machine Learning/CNN Demo/Result'"
      ]
     },
     "execution_count": 10,
     "metadata": {},
     "output_type": "execute_result"
    },
    {
     "name": "stdout",
     "output_type": "stream",
     "text": [
      "step 220, train accuracy 0.880000\n"
     ]
    },
    {
     "data": {
      "text/plain": [
       "'/JupyterNotebook/Machine Learning/CNN Demo/Result'"
      ]
     },
     "execution_count": 10,
     "metadata": {},
     "output_type": "execute_result"
    },
    {
     "data": {
      "text/plain": [
       "'/JupyterNotebook/Machine Learning/CNN Demo/Result'"
      ]
     },
     "execution_count": 10,
     "metadata": {},
     "output_type": "execute_result"
    },
    {
     "data": {
      "text/plain": [
       "'/JupyterNotebook/Machine Learning/CNN Demo/Result'"
      ]
     },
     "execution_count": 10,
     "metadata": {},
     "output_type": "execute_result"
    },
    {
     "data": {
      "text/plain": [
       "'/JupyterNotebook/Machine Learning/CNN Demo/Result'"
      ]
     },
     "execution_count": 10,
     "metadata": {},
     "output_type": "execute_result"
    },
    {
     "data": {
      "text/plain": [
       "'/JupyterNotebook/Machine Learning/CNN Demo/Result'"
      ]
     },
     "execution_count": 10,
     "metadata": {},
     "output_type": "execute_result"
    },
    {
     "name": "stdout",
     "output_type": "stream",
     "text": [
      "step 230, train accuracy 0.920000\n"
     ]
    },
    {
     "data": {
      "text/plain": [
       "'/JupyterNotebook/Machine Learning/CNN Demo/Result'"
      ]
     },
     "execution_count": 10,
     "metadata": {},
     "output_type": "execute_result"
    },
    {
     "data": {
      "text/plain": [
       "'/JupyterNotebook/Machine Learning/CNN Demo/Result'"
      ]
     },
     "execution_count": 10,
     "metadata": {},
     "output_type": "execute_result"
    },
    {
     "data": {
      "text/plain": [
       "'/JupyterNotebook/Machine Learning/CNN Demo/Result'"
      ]
     },
     "execution_count": 10,
     "metadata": {},
     "output_type": "execute_result"
    },
    {
     "data": {
      "text/plain": [
       "'/JupyterNotebook/Machine Learning/CNN Demo/Result'"
      ]
     },
     "execution_count": 10,
     "metadata": {},
     "output_type": "execute_result"
    },
    {
     "name": "stdout",
     "output_type": "stream",
     "text": [
      "step 240, train accuracy 0.940000\n"
     ]
    },
    {
     "data": {
      "text/plain": [
       "'/JupyterNotebook/Machine Learning/CNN Demo/Result'"
      ]
     },
     "execution_count": 10,
     "metadata": {},
     "output_type": "execute_result"
    },
    {
     "data": {
      "text/plain": [
       "'/JupyterNotebook/Machine Learning/CNN Demo/Result'"
      ]
     },
     "execution_count": 10,
     "metadata": {},
     "output_type": "execute_result"
    },
    {
     "data": {
      "text/plain": [
       "'/JupyterNotebook/Machine Learning/CNN Demo/Result'"
      ]
     },
     "execution_count": 10,
     "metadata": {},
     "output_type": "execute_result"
    },
    {
     "data": {
      "text/plain": [
       "'/JupyterNotebook/Machine Learning/CNN Demo/Result'"
      ]
     },
     "execution_count": 10,
     "metadata": {},
     "output_type": "execute_result"
    },
    {
     "data": {
      "text/plain": [
       "'/JupyterNotebook/Machine Learning/CNN Demo/Result'"
      ]
     },
     "execution_count": 10,
     "metadata": {},
     "output_type": "execute_result"
    },
    {
     "name": "stdout",
     "output_type": "stream",
     "text": [
      "step 250, train accuracy 0.900000\n"
     ]
    },
    {
     "data": {
      "text/plain": [
       "'/JupyterNotebook/Machine Learning/CNN Demo/Result'"
      ]
     },
     "execution_count": 10,
     "metadata": {},
     "output_type": "execute_result"
    },
    {
     "data": {
      "text/plain": [
       "'/JupyterNotebook/Machine Learning/CNN Demo/Result'"
      ]
     },
     "execution_count": 10,
     "metadata": {},
     "output_type": "execute_result"
    },
    {
     "data": {
      "text/plain": [
       "'/JupyterNotebook/Machine Learning/CNN Demo/Result'"
      ]
     },
     "execution_count": 10,
     "metadata": {},
     "output_type": "execute_result"
    },
    {
     "data": {
      "text/plain": [
       "'/JupyterNotebook/Machine Learning/CNN Demo/Result'"
      ]
     },
     "execution_count": 10,
     "metadata": {},
     "output_type": "execute_result"
    },
    {
     "data": {
      "text/plain": [
       "'/JupyterNotebook/Machine Learning/CNN Demo/Result'"
      ]
     },
     "execution_count": 10,
     "metadata": {},
     "output_type": "execute_result"
    },
    {
     "name": "stdout",
     "output_type": "stream",
     "text": [
      "step 260, train accuracy 0.960000\n"
     ]
    },
    {
     "data": {
      "text/plain": [
       "'/JupyterNotebook/Machine Learning/CNN Demo/Result'"
      ]
     },
     "execution_count": 10,
     "metadata": {},
     "output_type": "execute_result"
    },
    {
     "data": {
      "text/plain": [
       "'/JupyterNotebook/Machine Learning/CNN Demo/Result'"
      ]
     },
     "execution_count": 10,
     "metadata": {},
     "output_type": "execute_result"
    },
    {
     "data": {
      "text/plain": [
       "'/JupyterNotebook/Machine Learning/CNN Demo/Result'"
      ]
     },
     "execution_count": 10,
     "metadata": {},
     "output_type": "execute_result"
    },
    {
     "name": "stdout",
     "output_type": "stream",
     "text": [
      "step 270, train accuracy 0.960000\n"
     ]
    },
    {
     "data": {
      "text/plain": [
       "'/JupyterNotebook/Machine Learning/CNN Demo/Result'"
      ]
     },
     "execution_count": 10,
     "metadata": {},
     "output_type": "execute_result"
    },
    {
     "data": {
      "text/plain": [
       "'/JupyterNotebook/Machine Learning/CNN Demo/Result'"
      ]
     },
     "execution_count": 10,
     "metadata": {},
     "output_type": "execute_result"
    },
    {
     "data": {
      "text/plain": [
       "'/JupyterNotebook/Machine Learning/CNN Demo/Result'"
      ]
     },
     "execution_count": 10,
     "metadata": {},
     "output_type": "execute_result"
    },
    {
     "name": "stdout",
     "output_type": "stream",
     "text": [
      "step 280, train accuracy 0.940000\n"
     ]
    },
    {
     "data": {
      "text/plain": [
       "'/JupyterNotebook/Machine Learning/CNN Demo/Result'"
      ]
     },
     "execution_count": 10,
     "metadata": {},
     "output_type": "execute_result"
    },
    {
     "data": {
      "text/plain": [
       "'/JupyterNotebook/Machine Learning/CNN Demo/Result'"
      ]
     },
     "execution_count": 10,
     "metadata": {},
     "output_type": "execute_result"
    },
    {
     "data": {
      "text/plain": [
       "'/JupyterNotebook/Machine Learning/CNN Demo/Result'"
      ]
     },
     "execution_count": 10,
     "metadata": {},
     "output_type": "execute_result"
    },
    {
     "data": {
      "text/plain": [
       "'/JupyterNotebook/Machine Learning/CNN Demo/Result'"
      ]
     },
     "execution_count": 10,
     "metadata": {},
     "output_type": "execute_result"
    },
    {
     "data": {
      "text/plain": [
       "'/JupyterNotebook/Machine Learning/CNN Demo/Result'"
      ]
     },
     "execution_count": 10,
     "metadata": {},
     "output_type": "execute_result"
    },
    {
     "name": "stdout",
     "output_type": "stream",
     "text": [
      "step 290, train accuracy 0.960000\n"
     ]
    },
    {
     "data": {
      "text/plain": [
       "'/JupyterNotebook/Machine Learning/CNN Demo/Result'"
      ]
     },
     "execution_count": 10,
     "metadata": {},
     "output_type": "execute_result"
    },
    {
     "data": {
      "text/plain": [
       "'/JupyterNotebook/Machine Learning/CNN Demo/Result'"
      ]
     },
     "execution_count": 10,
     "metadata": {},
     "output_type": "execute_result"
    },
    {
     "data": {
      "text/plain": [
       "'/JupyterNotebook/Machine Learning/CNN Demo/Result'"
      ]
     },
     "execution_count": 10,
     "metadata": {},
     "output_type": "execute_result"
    },
    {
     "data": {
      "text/plain": [
       "'/JupyterNotebook/Machine Learning/CNN Demo/Result'"
      ]
     },
     "execution_count": 10,
     "metadata": {},
     "output_type": "execute_result"
    },
    {
     "name": "stdout",
     "output_type": "stream",
     "text": [
      "step 300, train accuracy 0.940000\n"
     ]
    },
    {
     "data": {
      "text/plain": [
       "'/JupyterNotebook/Machine Learning/CNN Demo/Result'"
      ]
     },
     "execution_count": 10,
     "metadata": {},
     "output_type": "execute_result"
    },
    {
     "data": {
      "text/plain": [
       "'/JupyterNotebook/Machine Learning/CNN Demo/Result'"
      ]
     },
     "execution_count": 10,
     "metadata": {},
     "output_type": "execute_result"
    },
    {
     "data": {
      "text/plain": [
       "'/JupyterNotebook/Machine Learning/CNN Demo/Result'"
      ]
     },
     "execution_count": 10,
     "metadata": {},
     "output_type": "execute_result"
    },
    {
     "data": {
      "text/plain": [
       "'/JupyterNotebook/Machine Learning/CNN Demo/Result'"
      ]
     },
     "execution_count": 10,
     "metadata": {},
     "output_type": "execute_result"
    },
    {
     "name": "stdout",
     "output_type": "stream",
     "text": [
      "step 310, train accuracy 0.940000\n"
     ]
    },
    {
     "data": {
      "text/plain": [
       "'/JupyterNotebook/Machine Learning/CNN Demo/Result'"
      ]
     },
     "execution_count": 10,
     "metadata": {},
     "output_type": "execute_result"
    },
    {
     "data": {
      "text/plain": [
       "'/JupyterNotebook/Machine Learning/CNN Demo/Result'"
      ]
     },
     "execution_count": 10,
     "metadata": {},
     "output_type": "execute_result"
    },
    {
     "data": {
      "text/plain": [
       "'/JupyterNotebook/Machine Learning/CNN Demo/Result'"
      ]
     },
     "execution_count": 10,
     "metadata": {},
     "output_type": "execute_result"
    },
    {
     "data": {
      "text/plain": [
       "'/JupyterNotebook/Machine Learning/CNN Demo/Result'"
      ]
     },
     "execution_count": 10,
     "metadata": {},
     "output_type": "execute_result"
    },
    {
     "name": "stdout",
     "output_type": "stream",
     "text": [
      "step 320, train accuracy 0.920000\n"
     ]
    },
    {
     "data": {
      "text/plain": [
       "'/JupyterNotebook/Machine Learning/CNN Demo/Result'"
      ]
     },
     "execution_count": 10,
     "metadata": {},
     "output_type": "execute_result"
    },
    {
     "data": {
      "text/plain": [
       "'/JupyterNotebook/Machine Learning/CNN Demo/Result'"
      ]
     },
     "execution_count": 10,
     "metadata": {},
     "output_type": "execute_result"
    },
    {
     "data": {
      "text/plain": [
       "'/JupyterNotebook/Machine Learning/CNN Demo/Result'"
      ]
     },
     "execution_count": 10,
     "metadata": {},
     "output_type": "execute_result"
    },
    {
     "name": "stdout",
     "output_type": "stream",
     "text": [
      "step 330, train accuracy 0.920000\n"
     ]
    },
    {
     "data": {
      "text/plain": [
       "'/JupyterNotebook/Machine Learning/CNN Demo/Result'"
      ]
     },
     "execution_count": 10,
     "metadata": {},
     "output_type": "execute_result"
    },
    {
     "data": {
      "text/plain": [
       "'/JupyterNotebook/Machine Learning/CNN Demo/Result'"
      ]
     },
     "execution_count": 10,
     "metadata": {},
     "output_type": "execute_result"
    },
    {
     "data": {
      "text/plain": [
       "'/JupyterNotebook/Machine Learning/CNN Demo/Result'"
      ]
     },
     "execution_count": 10,
     "metadata": {},
     "output_type": "execute_result"
    },
    {
     "name": "stdout",
     "output_type": "stream",
     "text": [
      "step 340, train accuracy 0.940000\n"
     ]
    },
    {
     "data": {
      "text/plain": [
       "'/JupyterNotebook/Machine Learning/CNN Demo/Result'"
      ]
     },
     "execution_count": 10,
     "metadata": {},
     "output_type": "execute_result"
    },
    {
     "data": {
      "text/plain": [
       "'/JupyterNotebook/Machine Learning/CNN Demo/Result'"
      ]
     },
     "execution_count": 10,
     "metadata": {},
     "output_type": "execute_result"
    },
    {
     "data": {
      "text/plain": [
       "'/JupyterNotebook/Machine Learning/CNN Demo/Result'"
      ]
     },
     "execution_count": 10,
     "metadata": {},
     "output_type": "execute_result"
    },
    {
     "data": {
      "text/plain": [
       "'/JupyterNotebook/Machine Learning/CNN Demo/Result'"
      ]
     },
     "execution_count": 10,
     "metadata": {},
     "output_type": "execute_result"
    },
    {
     "name": "stdout",
     "output_type": "stream",
     "text": [
      "step 350, train accuracy 0.940000\n"
     ]
    },
    {
     "data": {
      "text/plain": [
       "'/JupyterNotebook/Machine Learning/CNN Demo/Result'"
      ]
     },
     "execution_count": 10,
     "metadata": {},
     "output_type": "execute_result"
    },
    {
     "data": {
      "text/plain": [
       "'/JupyterNotebook/Machine Learning/CNN Demo/Result'"
      ]
     },
     "execution_count": 10,
     "metadata": {},
     "output_type": "execute_result"
    },
    {
     "data": {
      "text/plain": [
       "'/JupyterNotebook/Machine Learning/CNN Demo/Result'"
      ]
     },
     "execution_count": 10,
     "metadata": {},
     "output_type": "execute_result"
    },
    {
     "name": "stdout",
     "output_type": "stream",
     "text": [
      "step 360, train accuracy 0.920000\n"
     ]
    },
    {
     "data": {
      "text/plain": [
       "'/JupyterNotebook/Machine Learning/CNN Demo/Result'"
      ]
     },
     "execution_count": 10,
     "metadata": {},
     "output_type": "execute_result"
    },
    {
     "data": {
      "text/plain": [
       "'/JupyterNotebook/Machine Learning/CNN Demo/Result'"
      ]
     },
     "execution_count": 10,
     "metadata": {},
     "output_type": "execute_result"
    },
    {
     "data": {
      "text/plain": [
       "'/JupyterNotebook/Machine Learning/CNN Demo/Result'"
      ]
     },
     "execution_count": 10,
     "metadata": {},
     "output_type": "execute_result"
    },
    {
     "data": {
      "text/plain": [
       "'/JupyterNotebook/Machine Learning/CNN Demo/Result'"
      ]
     },
     "execution_count": 10,
     "metadata": {},
     "output_type": "execute_result"
    },
    {
     "data": {
      "text/plain": [
       "'/JupyterNotebook/Machine Learning/CNN Demo/Result'"
      ]
     },
     "execution_count": 10,
     "metadata": {},
     "output_type": "execute_result"
    },
    {
     "name": "stdout",
     "output_type": "stream",
     "text": [
      "step 370, train accuracy 0.940000\n"
     ]
    },
    {
     "data": {
      "text/plain": [
       "'/JupyterNotebook/Machine Learning/CNN Demo/Result'"
      ]
     },
     "execution_count": 10,
     "metadata": {},
     "output_type": "execute_result"
    },
    {
     "data": {
      "text/plain": [
       "'/JupyterNotebook/Machine Learning/CNN Demo/Result'"
      ]
     },
     "execution_count": 10,
     "metadata": {},
     "output_type": "execute_result"
    },
    {
     "data": {
      "text/plain": [
       "'/JupyterNotebook/Machine Learning/CNN Demo/Result'"
      ]
     },
     "execution_count": 10,
     "metadata": {},
     "output_type": "execute_result"
    },
    {
     "name": "stdout",
     "output_type": "stream",
     "text": [
      "step 380, train accuracy 0.900000\n"
     ]
    },
    {
     "data": {
      "text/plain": [
       "'/JupyterNotebook/Machine Learning/CNN Demo/Result'"
      ]
     },
     "execution_count": 10,
     "metadata": {},
     "output_type": "execute_result"
    },
    {
     "data": {
      "text/plain": [
       "'/JupyterNotebook/Machine Learning/CNN Demo/Result'"
      ]
     },
     "execution_count": 10,
     "metadata": {},
     "output_type": "execute_result"
    },
    {
     "data": {
      "text/plain": [
       "'/JupyterNotebook/Machine Learning/CNN Demo/Result'"
      ]
     },
     "execution_count": 10,
     "metadata": {},
     "output_type": "execute_result"
    },
    {
     "data": {
      "text/plain": [
       "'/JupyterNotebook/Machine Learning/CNN Demo/Result'"
      ]
     },
     "execution_count": 10,
     "metadata": {},
     "output_type": "execute_result"
    },
    {
     "data": {
      "text/plain": [
       "'/JupyterNotebook/Machine Learning/CNN Demo/Result'"
      ]
     },
     "execution_count": 10,
     "metadata": {},
     "output_type": "execute_result"
    },
    {
     "data": {
      "text/plain": [
       "'/JupyterNotebook/Machine Learning/CNN Demo/Result'"
      ]
     },
     "execution_count": 10,
     "metadata": {},
     "output_type": "execute_result"
    },
    {
     "name": "stdout",
     "output_type": "stream",
     "text": [
      "step 390, train accuracy 0.880000\n"
     ]
    },
    {
     "data": {
      "text/plain": [
       "'/JupyterNotebook/Machine Learning/CNN Demo/Result'"
      ]
     },
     "execution_count": 10,
     "metadata": {},
     "output_type": "execute_result"
    },
    {
     "data": {
      "text/plain": [
       "'/JupyterNotebook/Machine Learning/CNN Demo/Result'"
      ]
     },
     "execution_count": 10,
     "metadata": {},
     "output_type": "execute_result"
    },
    {
     "data": {
      "text/plain": [
       "'/JupyterNotebook/Machine Learning/CNN Demo/Result'"
      ]
     },
     "execution_count": 10,
     "metadata": {},
     "output_type": "execute_result"
    },
    {
     "data": {
      "text/plain": [
       "'/JupyterNotebook/Machine Learning/CNN Demo/Result'"
      ]
     },
     "execution_count": 10,
     "metadata": {},
     "output_type": "execute_result"
    },
    {
     "data": {
      "text/plain": [
       "'/JupyterNotebook/Machine Learning/CNN Demo/Result'"
      ]
     },
     "execution_count": 10,
     "metadata": {},
     "output_type": "execute_result"
    },
    {
     "name": "stdout",
     "output_type": "stream",
     "text": [
      "step 400, train accuracy 0.940000\n"
     ]
    },
    {
     "data": {
      "text/plain": [
       "'/JupyterNotebook/Machine Learning/CNN Demo/Result'"
      ]
     },
     "execution_count": 10,
     "metadata": {},
     "output_type": "execute_result"
    },
    {
     "data": {
      "text/plain": [
       "'/JupyterNotebook/Machine Learning/CNN Demo/Result'"
      ]
     },
     "execution_count": 10,
     "metadata": {},
     "output_type": "execute_result"
    },
    {
     "data": {
      "text/plain": [
       "'/JupyterNotebook/Machine Learning/CNN Demo/Result'"
      ]
     },
     "execution_count": 10,
     "metadata": {},
     "output_type": "execute_result"
    },
    {
     "data": {
      "text/plain": [
       "'/JupyterNotebook/Machine Learning/CNN Demo/Result'"
      ]
     },
     "execution_count": 10,
     "metadata": {},
     "output_type": "execute_result"
    },
    {
     "data": {
      "text/plain": [
       "'/JupyterNotebook/Machine Learning/CNN Demo/Result'"
      ]
     },
     "execution_count": 10,
     "metadata": {},
     "output_type": "execute_result"
    },
    {
     "name": "stdout",
     "output_type": "stream",
     "text": [
      "step 410, train accuracy 0.900000\n"
     ]
    },
    {
     "data": {
      "text/plain": [
       "'/JupyterNotebook/Machine Learning/CNN Demo/Result'"
      ]
     },
     "execution_count": 10,
     "metadata": {},
     "output_type": "execute_result"
    },
    {
     "data": {
      "text/plain": [
       "'/JupyterNotebook/Machine Learning/CNN Demo/Result'"
      ]
     },
     "execution_count": 10,
     "metadata": {},
     "output_type": "execute_result"
    },
    {
     "data": {
      "text/plain": [
       "'/JupyterNotebook/Machine Learning/CNN Demo/Result'"
      ]
     },
     "execution_count": 10,
     "metadata": {},
     "output_type": "execute_result"
    },
    {
     "data": {
      "text/plain": [
       "'/JupyterNotebook/Machine Learning/CNN Demo/Result'"
      ]
     },
     "execution_count": 10,
     "metadata": {},
     "output_type": "execute_result"
    },
    {
     "name": "stdout",
     "output_type": "stream",
     "text": [
      "step 420, train accuracy 0.900000\n"
     ]
    },
    {
     "data": {
      "text/plain": [
       "'/JupyterNotebook/Machine Learning/CNN Demo/Result'"
      ]
     },
     "execution_count": 10,
     "metadata": {},
     "output_type": "execute_result"
    },
    {
     "data": {
      "text/plain": [
       "'/JupyterNotebook/Machine Learning/CNN Demo/Result'"
      ]
     },
     "execution_count": 10,
     "metadata": {},
     "output_type": "execute_result"
    },
    {
     "data": {
      "text/plain": [
       "'/JupyterNotebook/Machine Learning/CNN Demo/Result'"
      ]
     },
     "execution_count": 10,
     "metadata": {},
     "output_type": "execute_result"
    },
    {
     "data": {
      "text/plain": [
       "'/JupyterNotebook/Machine Learning/CNN Demo/Result'"
      ]
     },
     "execution_count": 10,
     "metadata": {},
     "output_type": "execute_result"
    },
    {
     "data": {
      "text/plain": [
       "'/JupyterNotebook/Machine Learning/CNN Demo/Result'"
      ]
     },
     "execution_count": 10,
     "metadata": {},
     "output_type": "execute_result"
    },
    {
     "data": {
      "text/plain": [
       "'/JupyterNotebook/Machine Learning/CNN Demo/Result'"
      ]
     },
     "execution_count": 10,
     "metadata": {},
     "output_type": "execute_result"
    },
    {
     "name": "stdout",
     "output_type": "stream",
     "text": [
      "step 430, train accuracy 1.000000\n"
     ]
    },
    {
     "data": {
      "text/plain": [
       "'/JupyterNotebook/Machine Learning/CNN Demo/Result'"
      ]
     },
     "execution_count": 10,
     "metadata": {},
     "output_type": "execute_result"
    },
    {
     "data": {
      "text/plain": [
       "'/JupyterNotebook/Machine Learning/CNN Demo/Result'"
      ]
     },
     "execution_count": 10,
     "metadata": {},
     "output_type": "execute_result"
    },
    {
     "data": {
      "text/plain": [
       "'/JupyterNotebook/Machine Learning/CNN Demo/Result'"
      ]
     },
     "execution_count": 10,
     "metadata": {},
     "output_type": "execute_result"
    },
    {
     "name": "stdout",
     "output_type": "stream",
     "text": [
      "step 440, train accuracy 0.980000\n"
     ]
    },
    {
     "data": {
      "text/plain": [
       "'/JupyterNotebook/Machine Learning/CNN Demo/Result'"
      ]
     },
     "execution_count": 10,
     "metadata": {},
     "output_type": "execute_result"
    },
    {
     "data": {
      "text/plain": [
       "'/JupyterNotebook/Machine Learning/CNN Demo/Result'"
      ]
     },
     "execution_count": 10,
     "metadata": {},
     "output_type": "execute_result"
    },
    {
     "data": {
      "text/plain": [
       "'/JupyterNotebook/Machine Learning/CNN Demo/Result'"
      ]
     },
     "execution_count": 10,
     "metadata": {},
     "output_type": "execute_result"
    },
    {
     "name": "stdout",
     "output_type": "stream",
     "text": [
      "step 450, train accuracy 0.920000\n"
     ]
    },
    {
     "data": {
      "text/plain": [
       "'/JupyterNotebook/Machine Learning/CNN Demo/Result'"
      ]
     },
     "execution_count": 10,
     "metadata": {},
     "output_type": "execute_result"
    },
    {
     "data": {
      "text/plain": [
       "'/JupyterNotebook/Machine Learning/CNN Demo/Result'"
      ]
     },
     "execution_count": 10,
     "metadata": {},
     "output_type": "execute_result"
    },
    {
     "data": {
      "text/plain": [
       "'/JupyterNotebook/Machine Learning/CNN Demo/Result'"
      ]
     },
     "execution_count": 10,
     "metadata": {},
     "output_type": "execute_result"
    },
    {
     "data": {
      "text/plain": [
       "'/JupyterNotebook/Machine Learning/CNN Demo/Result'"
      ]
     },
     "execution_count": 10,
     "metadata": {},
     "output_type": "execute_result"
    },
    {
     "name": "stdout",
     "output_type": "stream",
     "text": [
      "step 460, train accuracy 0.940000\n"
     ]
    },
    {
     "data": {
      "text/plain": [
       "'/JupyterNotebook/Machine Learning/CNN Demo/Result'"
      ]
     },
     "execution_count": 10,
     "metadata": {},
     "output_type": "execute_result"
    },
    {
     "data": {
      "text/plain": [
       "'/JupyterNotebook/Machine Learning/CNN Demo/Result'"
      ]
     },
     "execution_count": 10,
     "metadata": {},
     "output_type": "execute_result"
    },
    {
     "data": {
      "text/plain": [
       "'/JupyterNotebook/Machine Learning/CNN Demo/Result'"
      ]
     },
     "execution_count": 10,
     "metadata": {},
     "output_type": "execute_result"
    },
    {
     "data": {
      "text/plain": [
       "'/JupyterNotebook/Machine Learning/CNN Demo/Result'"
      ]
     },
     "execution_count": 10,
     "metadata": {},
     "output_type": "execute_result"
    },
    {
     "data": {
      "text/plain": [
       "'/JupyterNotebook/Machine Learning/CNN Demo/Result'"
      ]
     },
     "execution_count": 10,
     "metadata": {},
     "output_type": "execute_result"
    },
    {
     "data": {
      "text/plain": [
       "'/JupyterNotebook/Machine Learning/CNN Demo/Result'"
      ]
     },
     "execution_count": 10,
     "metadata": {},
     "output_type": "execute_result"
    },
    {
     "name": "stdout",
     "output_type": "stream",
     "text": [
      "step 470, train accuracy 0.980000\n"
     ]
    },
    {
     "data": {
      "text/plain": [
       "'/JupyterNotebook/Machine Learning/CNN Demo/Result'"
      ]
     },
     "execution_count": 10,
     "metadata": {},
     "output_type": "execute_result"
    },
    {
     "data": {
      "text/plain": [
       "'/JupyterNotebook/Machine Learning/CNN Demo/Result'"
      ]
     },
     "execution_count": 10,
     "metadata": {},
     "output_type": "execute_result"
    },
    {
     "data": {
      "text/plain": [
       "'/JupyterNotebook/Machine Learning/CNN Demo/Result'"
      ]
     },
     "execution_count": 10,
     "metadata": {},
     "output_type": "execute_result"
    },
    {
     "data": {
      "text/plain": [
       "'/JupyterNotebook/Machine Learning/CNN Demo/Result'"
      ]
     },
     "execution_count": 10,
     "metadata": {},
     "output_type": "execute_result"
    },
    {
     "data": {
      "text/plain": [
       "'/JupyterNotebook/Machine Learning/CNN Demo/Result'"
      ]
     },
     "execution_count": 10,
     "metadata": {},
     "output_type": "execute_result"
    },
    {
     "data": {
      "text/plain": [
       "'/JupyterNotebook/Machine Learning/CNN Demo/Result'"
      ]
     },
     "execution_count": 10,
     "metadata": {},
     "output_type": "execute_result"
    },
    {
     "name": "stdout",
     "output_type": "stream",
     "text": [
      "step 480, train accuracy 0.900000\n"
     ]
    },
    {
     "data": {
      "text/plain": [
       "'/JupyterNotebook/Machine Learning/CNN Demo/Result'"
      ]
     },
     "execution_count": 10,
     "metadata": {},
     "output_type": "execute_result"
    },
    {
     "data": {
      "text/plain": [
       "'/JupyterNotebook/Machine Learning/CNN Demo/Result'"
      ]
     },
     "execution_count": 10,
     "metadata": {},
     "output_type": "execute_result"
    },
    {
     "data": {
      "text/plain": [
       "'/JupyterNotebook/Machine Learning/CNN Demo/Result'"
      ]
     },
     "execution_count": 10,
     "metadata": {},
     "output_type": "execute_result"
    },
    {
     "data": {
      "text/plain": [
       "'/JupyterNotebook/Machine Learning/CNN Demo/Result'"
      ]
     },
     "execution_count": 10,
     "metadata": {},
     "output_type": "execute_result"
    },
    {
     "name": "stdout",
     "output_type": "stream",
     "text": [
      "step 490, train accuracy 0.960000\n"
     ]
    },
    {
     "data": {
      "text/plain": [
       "'/JupyterNotebook/Machine Learning/CNN Demo/Result'"
      ]
     },
     "execution_count": 10,
     "metadata": {},
     "output_type": "execute_result"
    },
    {
     "data": {
      "text/plain": [
       "'/JupyterNotebook/Machine Learning/CNN Demo/Result'"
      ]
     },
     "execution_count": 10,
     "metadata": {},
     "output_type": "execute_result"
    },
    {
     "data": {
      "text/plain": [
       "'/JupyterNotebook/Machine Learning/CNN Demo/Result'"
      ]
     },
     "execution_count": 10,
     "metadata": {},
     "output_type": "execute_result"
    },
    {
     "name": "stdout",
     "output_type": "stream",
     "text": [
      "step 500, train accuracy 0.960000\n"
     ]
    },
    {
     "data": {
      "text/plain": [
       "'/JupyterNotebook/Machine Learning/CNN Demo/Result'"
      ]
     },
     "execution_count": 10,
     "metadata": {},
     "output_type": "execute_result"
    }
   ],
   "source": [
    "# 保存模型\n",
    "epoches = 500\n",
    "saver = tf.train.Saver()\n",
    "with tf.Session() as sess:\n",
    "    \n",
    "    sess.run(tf.global_variables_initializer())\n",
    "    loss_hist = [ ]\n",
    "    accuracy_hist = []\n",
    "    for i in range(1,eoches+1):\n",
    "        batch = mnist.train.next_batch(50)\n",
    "        \n",
    "        if i % 10 == 0:    \n",
    "            print(\"step %d, train accuracy %f\"% (i, train_accuracy))\n",
    "            \n",
    "        train_accuracy = sess.run(accuracy, feed_dict={x:batch[0], y:batch[1], keep_prob:1})\n",
    "        accuracy_hist.append(train_accuracy)\n",
    "        loss_value, _ = sess.run([loss, train], feed_dict={x:batch[0], y:batch[1], keep_prob:0.5})\n",
    "        loss_hist.append(loss_value)\n",
    "        \n",
    "        if i==1 or accuracy_hist[i-1]>accuracy_hist[i-2]:\n",
    "            saver.save(sess, \"/JupyterNotebook/Machine Learning/CNN Demo/Result\")"
   ]
  },
  {
   "cell_type": "code",
   "execution_count": 18,
   "metadata": {},
   "outputs": [
    {
     "data": {
      "text/plain": [
       "[<matplotlib.lines.Line2D at 0x2cb5189f4e0>]"
      ]
     },
     "execution_count": 18,
     "metadata": {},
     "output_type": "execute_result"
    },
    {
     "data": {
      "text/plain": [
       "Text(0,0.5,'$Loss$')"
      ]
     },
     "execution_count": 18,
     "metadata": {},
     "output_type": "execute_result"
    },
    {
     "data": {
      "text/plain": [
       "[<matplotlib.lines.Line2D at 0x2cb5189fa20>]"
      ]
     },
     "execution_count": 18,
     "metadata": {},
     "output_type": "execute_result"
    },
    {
     "data": {
      "text/plain": [
       "Text(0,0.5,'$Accuracy$')"
      ]
     },
     "execution_count": 18,
     "metadata": {},
     "output_type": "execute_result"
    },
    {
     "data": {
      "image/png": "[encoded data removed]",
      "text/plain": [
       "<matplotlib.figure.Figure at 0x2cb50ccf550>"
      ]
     },
     "metadata": {},
     "output_type": "display_data"
    }
   ],
   "source": [
    "epoches = 500\n",
    "epoches_range = [i for i in range(1,epoches+1)]\n",
    "\n",
    "fig = plt.figure(figsize=(15,10))\n",
    "\n",
    "ax1 = fig.add_subplot(111)\n",
    "ax1.plot(epoches_range, loss_hist)\n",
    "ax1.set_ylabel('$Loss$',fontsize=20, )\n",
    "ax2 = ax1.twinx()\n",
    "ax2.plot(epoches_range, accuracy_hist,'r')\n",
    "ax2.set_ylabel('$Accuracy$', fontsize=20)\n",
    "# plt.plot(loss_range, loss_hist, accuracy_range, accuracy_hist)\n",
    "plt.show()"
   ]
  },
  {
   "cell_type": "code",
   "execution_count": 20,
   "metadata": {},
   "outputs": [
    {
     "name": "stdout",
     "output_type": "stream",
     "text": [
      "INFO:tensorflow:Restoring parameters from /JupyterNotebook/Machine Learning/CNN Demo/Result\n"
     ]
    },
    {
     "data": {
      "text/plain": [
       "0.95289999"
      ]
     },
     "execution_count": 20,
     "metadata": {},
     "output_type": "execute_result"
    }
   ],
   "source": [
    "# with tf.Session() as sess:\n",
    "#     saver_ = tf.train.import_meta_graph('/JupyterNotebook/Machine Learning/CNN Demo/Result.meta')\n",
    "#     saver_.restore(sess, tf.train.latest_checkpoint('/JupyterNotebook/Machine Learning/CNN Demo/'))\n",
    "# #     acc = tf.get_collection('accuracy')\n",
    "#     sess.run(accuracy, feed_dict={x:mnist.test.images , y:mnist.test.labels, keep_prob:1.0})"
   ]
  },
  {
   "cell_type": "code",
   "execution_count": null,
   "metadata": {},
   "outputs": [],
   "source": []
  }
 ],
 "metadata": {
  "kernelspec": {
   "display_name": "Python 3",
   "language": "python",
   "name": "python3"
  },
  "language_info": {
   "codemirror_mode": {
    "name": "ipython",
    "version": 3
   },
   "file_extension": ".py",
   "mimetype": "text/x-python",
   "name": "python",
   "nbconvert_exporter": "python",
   "pygments_lexer": "ipython3",
   "version": "3.6.2"
  }
 },
 "nbformat": 4,
 "nbformat_minor": 2
}
